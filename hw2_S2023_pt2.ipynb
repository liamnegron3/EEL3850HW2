{
 "cells": [
  {
   "cell_type": "markdown",
   "metadata": {},
   "source": [
    "# Homework 2 Part 2\n",
    "\n",
    "\n",
    "This is an individual assignment."
   ]
  },
  {
   "cell_type": "markdown",
   "metadata": {},
   "source": [
    "## Description\n",
    "\n",
    "Create or edit this Jupyter Notebook to answer the questions below. Use simulations to answer these questions. An analytical solution can be useful to check if your simulation is correct but analytical solutions alone will not be accepted as a solution to a problem."
   ]
  },
  {
   "cell_type": "markdown",
   "metadata": {},
   "source": [
    "## Problem 1\n",
    "\n",
    "Consider the experiment where you pick 3 cards at random from a deck of 52 playing cards (13 cards per suit) **without replacement**, i.e., at each card selection you will not put it back in the deck, and so the number of possible outcomes will change for each new draw.\n",
    "\n",
    "Let $D_i$ denote the event the card is diamonds in the $i$th draw.\n",
    "\n",
    "Build a simulation to compute the following probabilities:\n",
    "\n",
    "1. $P(D_1)$\n",
    "\n",
    "2. $P(D_1 \\cap \\overline{D}_2)$\n",
    "\n",
    "3. $P(D_1 \\cap \\overline{D}_2 \\cap \\overline{D_3})$\n",
    "\n",
    "4. $P(D_3|D_1\\cap \\overline{D}_2)$\n",
    "\n",
    "*Note: to sample from a set **without replacement**, consider use the function ```numpy.random.choice``` by controling the parameter ```replace```*."
   ]
  },
  {
   "cell_type": "markdown",
   "metadata": {},
   "source": [
    "1. $P(D_1) = 0.25$"
   ]
  },
  {
   "cell_type": "code",
   "execution_count": 54,
   "metadata": {},
   "outputs": [
    {
     "name": "stdout",
     "output_type": "stream",
     "text": [
      "Probability of drawing a diamond on the first draw is: 0.24943\n"
     ]
    }
   ],
   "source": [
    "import random\n",
    "import numpy as np\n",
    "import numpy.random as npr\n",
    "\n",
    "#part 1 Probability of drawing a single diamond\n",
    "#help(np.random.choice)\n",
    "\n",
    "\n",
    "#Create a deck of cards\n",
    "Deck = [0]*52\n",
    "\n",
    "#Diamonds will be 1 all other suits will be 0\n",
    "for i in range(13):\n",
    "    Deck[i] = 1;\n",
    "    \n",
    "\n",
    "#Run a simulation\n",
    "num_sims = 100_000\n",
    "event_counter = 0\n",
    "\n",
    "for i in range(num_sims):\n",
    "    if(np.random.choice(Deck)):\n",
    "        event_counter += 1\n",
    "        \n",
    "print(\"Probability of drawing a diamond on the first draw is:\", event_counter/num_sims)"
   ]
  },
  {
   "cell_type": "markdown",
   "metadata": {},
   "source": [
    "2. $P(D_1 \\cap \\overline{D}_2) = 0.191$"
   ]
  },
  {
   "cell_type": "code",
   "execution_count": 55,
   "metadata": {},
   "outputs": [
    {
     "name": "stdout",
     "output_type": "stream",
     "text": [
      "The probability of drawing a diamond on the first draw and not drawing a diamond on the second draw is: 0.1914\n"
     ]
    }
   ],
   "source": [
    "#Part 2 simulation\n",
    "#reset the event counter\n",
    "event_counter = 0\n",
    "\n",
    "\n",
    "#now factor in card replacement\n",
    "for i in range(num_sims):\n",
    "    #Draw twice without replacement\n",
    "    cards_drawn = np.random.choice(Deck,2,replace=False)\n",
    "\n",
    "    #check to see if condition is met\n",
    "    if(cards_drawn[0] == 1 and cards_drawn[1] == 0):\n",
    "        event_counter += 1\n",
    "        \n",
    "print(\"The probability of drawing a diamond on the first\\\n",
    " draw and not drawing a diamond on the second draw is:\", event_counter/num_sims)"
   ]
  },
  {
   "cell_type": "markdown",
   "metadata": {},
   "source": [
    "3. $P(D_1 \\cap \\overline{D}_2 \\cap \\overline{D_3}) = 0.145$"
   ]
  },
  {
   "cell_type": "code",
   "execution_count": 57,
   "metadata": {},
   "outputs": [
    {
     "name": "stdout",
     "output_type": "stream",
     "text": [
      "The probability of drawing a diamond on the first draw and not drawing a diamond on the second draw is: 0.14584\n"
     ]
    }
   ],
   "source": [
    "#Part 3 simulation\n",
    "#reset the event counter\n",
    "event_counter = 0\n",
    "\n",
    "\n",
    "for i in range(num_sims):\n",
    "    #Draw three times without replacement\n",
    "    cards_drawn = np.random.choice(Deck,3,replace=False)\n",
    "\n",
    "    #check to see if condition is met\n",
    "    if(cards_drawn[0] == 1 and cards_drawn[1] == 0 and cards_drawn[2] == 0):\n",
    "        event_counter += 1\n",
    "        \n",
    "print(\"The probability of drawing a diamond on the first\\\n",
    " draw and not drawing a diamond on the second and third draw is:\", event_counter/num_sims)"
   ]
  },
  {
   "cell_type": "markdown",
   "metadata": {},
   "source": [
    "4. $P(D_3|D_1\\cap \\overline{D}_2) = 0.24$"
   ]
  },
  {
   "cell_type": "code",
   "execution_count": 66,
   "metadata": {},
   "outputs": [
    {
     "name": "stdout",
     "output_type": "stream",
     "text": [
      "The probability of drawing a diamond given thefirst draw was a diamond and the second was not is: 0.23908\n"
     ]
    }
   ],
   "source": [
    "#Part 4 simulation \n",
    "\n",
    "#reset the event counter\n",
    "event_counter = 0\n",
    "\n",
    "#A new deck is needed two cards were drawn so there are only 50 cards\n",
    "new_deck = [0]*50\n",
    "\n",
    "\n",
    "#A diamond was drawn so there are only 12 diamonds left\n",
    "for i in range(12):\n",
    "    new_deck[i] = 1;\n",
    "\n",
    "#Begin the simulation \n",
    "for i in range(num_sims):\n",
    "    if(np.random.choice(new_deck)):\n",
    "        event_counter += 1\n",
    "        \n",
    "print(\"The probability of drawing a diamond given the\\\n",
    "first draw was a diamond and the second was not is:\", event_counter/num_sims)"
   ]
  },
  {
   "cell_type": "markdown",
   "metadata": {},
   "source": [
    "## Problem 2\n",
    "\n",
    "Suppose that you have 6 coins: 1 fair coins and 5 unfair coins. When flipped, the coins flip heads with probability 0.5, 0.6, 0.8, 0.2, 0.1 and 0.3, respectively. Consider the experiment where you choose a coin at random and flip it twice. Let $E$ be the event that 2 heads were observed. Compute $P(\\text{fair coin}|E)$.\n",
    "\n",
    "*Note: to encode specific probabilily of flipping heads, you may consider using the function ```numpy.random.choice``` by controlling the parameter ```p```.*"
   ]
  },
  {
   "cell_type": "markdown",
   "metadata": {},
   "source": [
    "$P(\\text{fair coin}|E) = 0.18$"
   ]
  },
  {
   "cell_type": "code",
   "execution_count": 87,
   "metadata": {},
   "outputs": [
    {
     "name": "stdout",
     "output_type": "stream",
     "text": [
      "The probability of a fair coin given two heads were flipped is: 0.18104147608609353\n"
     ]
    }
   ],
   "source": [
    "num_sims = 500_000\n",
    "#Create the sample space of coins\n",
    "coins = [\"Fair\", \"Coin1\", \"Coin2\", \"Coin3\", \"Coin4\", \"Coin5\"]\n",
    "sides = [\"H\", \"T\"]\n",
    "\n",
    "#reset the event_counter\n",
    "event_counter = 0\n",
    "fair_and_event = 0\n",
    "\n",
    "for i in range(num_sims):\n",
    "    #pick a coin\n",
    "    coin_chosen = np.random.choice(coins)\n",
    "\n",
    "    #Flip the coin twice based on what coin is chosen\n",
    "    if coin_chosen == \"Fair\":\n",
    "        #(1,2,p=[0.5,0.5]) 1 means 0 or 1, 2 means two flips\n",
    "        #p = 0.5 is the probability of the fair coin\n",
    "        flips = np.random.choice(sides,2,p=[0.5, 0.5])\n",
    "    elif coin_chosen == \"Coin1\":\n",
    "        flips = np.random.choice(sides,2,p=[0.6, 0.4])\n",
    "    elif coin_chosen == \"Coin2\":\n",
    "        flips = np.random.choice(sides,2,p=[0.8, 0.2])\n",
    "    elif coin_chosen == \"Coin3\":\n",
    "        flips = np.random.choice(sides,2,p=[0.2, 0.8])\n",
    "    elif coin_chosen == \"Coin4\":\n",
    "        flips = np.random.choice(sides,2,p=[0.1, 0.9])\n",
    "    else:\n",
    "        flips = np.random.choice(sides,2,p=[0.3, 0.7])\n",
    "\n",
    "    #Check if the event occured\n",
    "    if(flips[0] == 'H' and flips[1] == 'H'):\n",
    "        event_counter += 1\n",
    "        \n",
    "    if(flips[0] == 'H' and flips[1] == 'H' and coin_chosen == \"Fair\"):\n",
    "        fair_and_event += 1\n",
    "        \n",
    "#apply conditional probability equation \n",
    "fair_given_event = fair_and_event/event_counter    \n",
    "print(\"The probability of a fair coin given two heads were flipped is:\", fair_given_event)"
   ]
  },
  {
   "cell_type": "markdown",
   "metadata": {},
   "source": [
    "# Submit Your Solutions\n",
    "\n",
    "Confirm that you've successfully completed the assignment.\n",
    "\n",
    "Along with the Notebook, include a PDF of the notebook with your solutions."
   ]
  }
 ],
 "metadata": {
  "kernelspec": {
   "display_name": "Python 3 (ipykernel)",
   "language": "python",
   "name": "python3"
  },
  "language_info": {
   "codemirror_mode": {
    "name": "ipython",
    "version": 3
   },
   "file_extension": ".py",
   "mimetype": "text/x-python",
   "name": "python",
   "nbconvert_exporter": "python",
   "pygments_lexer": "ipython3",
   "version": "3.9.13"
  },
  "latex_envs": {
   "LaTeX_envs_menu_present": true,
   "autoclose": false,
   "autocomplete": true,
   "bibliofile": "biblio.bib",
   "cite_by": "apalike",
   "current_citInitial": 1,
   "eqLabelWithNumbers": true,
   "eqNumInitial": 1,
   "hotkeys": {
    "equation": "Ctrl-E",
    "itemize": "Ctrl-I"
   },
   "labels_anchors": false,
   "latex_user_defs": false,
   "report_style_numbering": false,
   "user_envs_cfg": false
  },
  "varInspector": {
   "cols": {
    "lenName": 16,
    "lenType": 16,
    "lenVar": 40
   },
   "kernels_config": {
    "python": {
     "delete_cmd_postfix": "",
     "delete_cmd_prefix": "del ",
     "library": "var_list.py",
     "varRefreshCmd": "print(var_dic_list())"
    },
    "r": {
     "delete_cmd_postfix": ") ",
     "delete_cmd_prefix": "rm(",
     "library": "var_list.r",
     "varRefreshCmd": "cat(var_dic_list()) "
    }
   },
   "types_to_exclude": [
    "module",
    "function",
    "builtin_function_or_method",
    "instance",
    "_Feature"
   ],
   "window_display": false
  }
 },
 "nbformat": 4,
 "nbformat_minor": 4
}
